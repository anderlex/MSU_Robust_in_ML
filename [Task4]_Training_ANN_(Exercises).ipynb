{
  "cells": [
    {
      "cell_type": "markdown",
      "id": "a47a5e2b",
      "metadata": {
        "id": "a47a5e2b"
      },
      "source": [
        "## Задание. Создать нейронную сеть со следующей структурой\n",
        "\n",
        "\n",
        "Network( <br/>\n",
        "    (hidden): Linear(in_features=784, out_features=256, bias=True) <br/>\n",
        "    (output): Linear(in_features=256, out_features=10, bias=True) <br/>\n",
        "    (sigmoid): Sigmoid() <br/>\n",
        "    (softmax): Softmax(dim=1) <br/>\n",
        ")\n"
      ]
    },
    {
      "cell_type": "markdown",
      "id": "cfb13e52",
      "metadata": {
        "id": "cfb13e52"
      },
      "source": [
        "Подключить необходимые библиотеки: torch, numpy и matplotlib.pyplot:"
      ]
    },
    {
      "cell_type": "code",
      "execution_count": 109,
      "id": "1fe880cb",
      "metadata": {
        "id": "1fe880cb"
      },
      "outputs": [],
      "source": [
        "import torch\n",
        "import torch.nn as nn\n",
        "import torch.nn.functional as F\n",
        "import numpy as np\n",
        "import matplotlib.pyplot as plt"
      ]
    },
    {
      "cell_type": "markdown",
      "id": "3f54332d",
      "metadata": {
        "id": "3f54332d"
      },
      "source": [
        "Создать класс и описать в нём необходимую нам структуру:"
      ]
    },
    {
      "cell_type": "code",
      "execution_count": 110,
      "id": "21ce9274",
      "metadata": {
        "id": "21ce9274"
      },
      "outputs": [],
      "source": [
        "import torch.nn as nn\n",
        "import torch.nn.functional as F\n",
        "\n",
        "class Network(nn.Module):\n",
        "    def __init__(self):\n",
        "        super().__init__()         \n",
        "        self.hidden = nn.Linear(784, 256)            \n",
        "        self.output = nn.Linear(256, 10)            \n",
        "        self.sigmoid = nn.Sigmoid()\n",
        "        self.softmax = nn.Softmax(1)           \n",
        "\n",
        "    def forward(self, x):\n",
        "        x = self.hidden(x)\n",
        "        x = self.output(x)\n",
        "        x = self.sigmoid(x)\n",
        "        return x\n",
        "    \n",
        "    def inference(self, x):\n",
        "        x = self.forward(x)\n",
        "        x = self.softmax(x)\n",
        "        return x\n",
        "\n",
        "model = Network()"
      ]
    },
    {
      "cell_type": "markdown",
      "id": "08071e94",
      "metadata": {
        "id": "08071e94"
      },
      "source": [
        "Создадим экземпляр класса и выведем его на печать, чтобы проверить, что наша архитектура совпадает с заданной:"
      ]
    },
    {
      "cell_type": "code",
      "execution_count": 111,
      "id": "cb72407a",
      "metadata": {
        "id": "cb72407a",
        "outputId": "c26937ea-56ba-497d-a760-79b8a6660a00"
      },
      "outputs": [
        {
          "name": "stdout",
          "output_type": "stream",
          "text": [
            "Network(\n",
            "  (hidden): Linear(in_features=784, out_features=256, bias=True)\n",
            "  (output): Linear(in_features=256, out_features=10, bias=True)\n",
            "  (sigmoid): Sigmoid()\n",
            "  (softmax): Softmax(dim=1)\n",
            ")\n"
          ]
        }
      ],
      "source": [
        "print(model) ## WRITE YOUR CODE HERE"
      ]
    },
    {
      "cell_type": "markdown",
      "id": "1257b2ec",
      "metadata": {
        "id": "1257b2ec"
      },
      "source": [
        "Будем использовать набор данных MNIST. Применим трансформации перевода в тензор и нормализации с параметрами (0.5):"
      ]
    },
    {
      "cell_type": "code",
      "execution_count": 112,
      "id": "45e51e57",
      "metadata": {
        "id": "45e51e57"
      },
      "outputs": [],
      "source": [
        "from torchvision import datasets, transforms\n",
        "\n",
        "# Define a transform to normalize the data\n",
        "transform = transforms.Compose([\n",
        "    transforms.ToTensor(),\n",
        "    transforms.Normalize(0.5, 0.5)\n",
        "])\n",
        "\n",
        "# Download and load the training data\n",
        "trainset = datasets.MNIST('~/.pytorch/MNIST_data/', download=True, train=True, transform=transform)\n",
        "trainloader = torch.utils.data.DataLoader(trainset, batch_size=64, shuffle=True)"
      ]
    },
    {
      "cell_type": "markdown",
      "id": "b872779d",
      "metadata": {
        "id": "b872779d"
      },
      "source": [
        "Зададим функцию view_classify для более удобного вывода результатов на экран:"
      ]
    },
    {
      "cell_type": "code",
      "execution_count": 113,
      "id": "1deb1275",
      "metadata": {
        "id": "1deb1275"
      },
      "outputs": [],
      "source": [
        "def view_classify(img, ps, version=\"MNIST\"):\n",
        "    '''\n",
        "    Function for viewing an image and it's predicted classes.\n",
        "    '''\n",
        "    ps = ps.data.numpy().squeeze()\n",
        "\n",
        "    fig, (ax1, ax2) = plt.subplots(figsize=(6,9), ncols=2)\n",
        "    ax1.imshow(img.resize_(1, 28, 28).numpy().squeeze())\n",
        "    ax1.axis('off')\n",
        "    ax2.barh(np.arange(10), ps)\n",
        "    ax2.set_aspect(0.1)\n",
        "    ax2.set_yticks(np.arange(10))\n",
        "    ax2.set_yticklabels(np.arange(10))\n",
        "    ax2.set_title('Class Probability')\n",
        "    ax2.set_xlim(0, 1.1)\n",
        "\n",
        "    plt.tight_layout()"
      ]
    },
    {
      "cell_type": "markdown",
      "id": "077160df",
      "metadata": {
        "id": "077160df"
      },
      "source": [
        "Будем итерироваться по тренировочному множеству и выведем результат работы нейронной сети на экран:"
      ]
    },
    {
      "cell_type": "code",
      "execution_count": 114,
      "id": "58c4ab17",
      "metadata": {
        "id": "58c4ab17",
        "outputId": "05a1bdb3-e68a-43b2-e037-837790a8c4c9"
      },
      "outputs": [
        {
          "data": {
            "image/png": "[encoded data removed]",
            "text/plain": [
              "<Figure size 600x900 with 2 Axes>"
            ]
          },
          "metadata": {},
          "output_type": "display_data"
        }
      ],
      "source": [
        "# Grab some data\n",
        "images = next(iter(trainloader))[0]\n",
        "\n",
        "# Resize images into a 1D vector, new shape is (batch size, color channels, image pixels)\n",
        "images.resize_(64, 1, 784)\n",
        "# or images.resize_(images.shape[0], 1, 784) to automatically get batch size\n",
        "\n",
        "# Forward pass through the network\n",
        "img_idx = 0\n",
        "ps = model.forward(images[img_idx,:])\n",
        "\n",
        "img = images[img_idx]\n",
        "view_classify(img.view(1, 28, 28), ps)"
      ]
    },
    {
      "cell_type": "markdown",
      "id": "d1e3bed5",
      "metadata": {
        "id": "d1e3bed5"
      },
      "source": [
        "Вопрос: почему получилось такое распределение вероятностей предсказаний классов?\n",
        "\n",
        "Ответ: веса в этой нейронной сети задавались случайным образом, то есть сеть никак не обучалась."
      ]
    },
    {
      "cell_type": "markdown",
      "id": "77c8b9d1",
      "metadata": {
        "id": "77c8b9d1"
      },
      "source": [
        "## Обучение нейронной сети"
      ]
    },
    {
      "cell_type": "markdown",
      "id": "f793060f",
      "metadata": {
        "id": "f793060f"
      },
      "source": [
        "Суть обучения нейронной сети заключается в подборе (посредством постепенного изменения) весов и bias-векторов (параметров сети) таким образом, чтобы разница между выходом нейронной сети и целевым значением была минимальна.\n",
        "\n",
        "Для этого строится **функция потерь (Loss function)** - функция, которая оценивает <<расстояние>> между значением, которое получилось на выходе нейронной сети (Prediction), и заранее заданным значением (Labels).\n",
        "\n",
        "Чтобы минимизировать функцию потерь, используется метод обратного распространения ошибки (Backpropagation), суть которого заключается в нахождении минимума функции потерь через вычисление её градиента, который в свою очередь зависит только от входных данных (поэтому обратное распространение).\n",
        "\n",
        "Метод обратного распространения ошибки включает в себя следующие шаги:\n",
        "* Forward Pass (FP) — прямое распространение сигнала от входа к выходам (без которого не получить вычисленные значения в графе);\n",
        "* Backward Pass (BP) — расчёт величины градиента от выхода ко входам;\n",
        "* обновление весов в зависимости от величины градиента (скорость обучения или learning rate).\n",
        "\n",
        "<img src= https://www.researchgate.net/publication/341817070/figure/fig3/AS:897824409526282@1591069428935/Schematic-of-backpropagation-In-the-forward-pass-of-a-simple-neural-network-an-input.ppm>\n",
        "\n",
        "Существует несколько реализаций метода обратного распространения ошибки:\n",
        "- стохастического градиентного спуска (Stochastic Gradient Descent, SGD);\n",
        "- пакетного градиентного спуска (Mini-Bath Gradient Descent, MBGD)."
      ]
    },
    {
      "cell_type": "markdown",
      "id": "5ca4d40c",
      "metadata": {
        "id": "5ca4d40c"
      },
      "source": [
        "Итого, один цикл обучения включает:\n",
        "- загрузку данных (Features);\n",
        "- один проход данных сквозь нейронную сеть (Neural Network);\n",
        "- получение предсказаний нейронной сети (Prediction);\n",
        "- выгрузка значений, которые соответствуют данным (Labels);\n",
        "- построение функции потерь (Loss) от двух параметров Prediction и Loss;\n",
        "- применение метода обратного распространения ошибки (Backpropagation).\n",
        "\n",
        "<img src=https://galaxyinferno.com/wp-content/uploads/2021/08/Slide3.jpg>"
      ]
    },
    {
      "cell_type": "markdown",
      "id": "29e83149",
      "metadata": {
        "id": "29e83149"
      },
      "source": [
        "Например, внутри одной эпохи обучения двухслойной неронной сети необходимо выполнять следующие действия:\n",
        "- предобработать данные;\n",
        "- умножить их на веса;\n",
        "- применить функцию активации;\n",
        "- снова умножить на веса;\n",
        "- вычислить значение функции потерь;\n",
        "- вычислить градиент функции потерь по весам;\n",
        "- обновить веса;\n",
        "- оценить точность."
      ]
    },
    {
      "cell_type": "markdown",
      "id": "a174b2ab",
      "metadata": {
        "id": "a174b2ab"
      },
      "source": [
        "Нейронная сеть в процессе **обучения** последовательно обрабатывает все объекты из обучающей выборки.\n",
        "Предъявление нейронной сети всех объектов обучающей выборки по одному разу называется **эпохой обучения**.\n",
        "\n",
        "Обучающую выборку разделяют на две части: непосредственно использующуюся для обучения (train data) и тестовую (test data) или валидационную (validation data). На тестовых данных каждую эпоху происходит оценка качества обучения. Стратегия разделения на train и test/validation подвыборки может быть произвольной, но при разделении следует заботиться о том, чтобы эти подвыборки были \"похожи\"."
      ]
    },
    {
      "cell_type": "markdown",
      "id": "8af3a29c",
      "metadata": {
        "id": "8af3a29c"
      },
      "source": [
        "Обучение модели — итеративный процесс. На каждой итерции модель получает входные данные, дает предсказание на выходе, вычисляет значение функции потерь (loss), вычисляет производные функции потерь по параметрам и подстраивает параметры, используя градиентный спуск. Для более детального рассмотрения этого процесса рекомендуем посмотреть [видео об обратном распространении ошибки от 3Blue1Brown](https://www.youtube.com/watch?v=tIeHLnjs5U8).\n",
        "\n",
        "[Плейлист с видео о нейронных сетях от 3Blue1Brown с озвучкой на русском](https://www.youtube.com/playlist?list=PLfdZ2TeaMzfzlpZ60rbaYU_epH5XPNbWU)."
      ]
    },
    {
      "cell_type": "markdown",
      "id": "6ff49c86",
      "metadata": {
        "id": "6ff49c86"
      },
      "source": [
        "## Гиперпараметры\n",
        "\n",
        "Гиперпараметры — это задаваемые разработчиком параметры, которые позволяют управлять процессом обучения. Различные значения гиперпараметров могут влиять на обучение модели и скорость сходимости ([здесь](https://pytorch.org/tutorials/beginner/hyperparameter_tuning_tutorial.html) можно почитать подробнее про подбор гиперпараметров).\n",
        "\n",
        "Определим следующие гиперпараметры процедуры обучения:\n",
        "* **количество эпох** (`num_epochs`) — количество итераций обучения по всему набору данных;\n",
        "* **размер батча** (`batch_size`) — количество образцов, передаваемых в сеть для обновления параметров;\n",
        "* **скорость обучения** (`learning_rate`) — коэффициент, определяющий, насколько сильно нужно обновлять параметры модели на каждом батче. Малые значения приводят к долгому обучению, в то время как большие значения могут приводить к непредсказуемому поведению во время обучения."
      ]
    },
    {
      "cell_type": "code",
      "execution_count": 115,
      "id": "9b556161",
      "metadata": {
        "id": "9b556161"
      },
      "outputs": [],
      "source": [
        "num_epochs = 10\n",
        "batch_size = 64\n",
        "learning_rate = 1e-3"
      ]
    },
    {
      "cell_type": "markdown",
      "id": "5f660b8f",
      "metadata": {
        "id": "5f660b8f"
      },
      "source": [
        "## Функция потерь (Loss function)\n",
        "\n",
        "При получении некоторых обучающих данных наша необученная сеть, скорее всего, не даст правильного ответа. Функция потерь измеряет степень различия между значениями на выходе сети и целевыми значениями. Именно функцию потерь мы и хотим минимизировать во время обучения. Для вычисления функции потерь нужно получить предсказание модели, передав ей на вход пример из данных, и сравнить его с истинным значением целевой переменной.\n",
        "\n",
        "Наиболее часто применяемыми функциями потерь являются [`nn.MSELoss`](https://pytorch.org/docs/stable/generated/torch.nn.MSELoss.html#torch.nn.MSELoss) (Mean Square Error) для задач регрессии и [`nn.CrossEntropyLoss`](https://pytorch.org/docs/stable/generated/torch.nn.CrossEntropyLoss.html#torch.nn.CrossEntropyLoss) для задач класиификации.\n",
        "\n",
        "\n",
        "Мы будем передавать выходы модели (логиты) в `nn.CrossEntropyLoss`, которая будет их нормализовывать и вычислять ошибку предсказания."
      ]
    },
    {
      "cell_type": "code",
      "execution_count": 116,
      "id": "503bde7f",
      "metadata": {
        "id": "503bde7f"
      },
      "outputs": [],
      "source": [
        "criterion = nn.CrossEntropyLoss()"
      ]
    },
    {
      "cell_type": "markdown",
      "id": "b9b54dd6",
      "metadata": {
        "id": "b9b54dd6"
      },
      "source": [
        "## Оптимизатор (Optimizer)\n",
        "\n",
        "Оптимизация — это процесс подстройки параметров модели для уменьшения ошибки на каждом шаге обучения. От **алгоритма оптимизации** зависит то, как этот процесс будет выполняться. Здесь мы будем использовать стохастический градиентный спуск (Stochastic Gradient Descent, SGD). Однако в PyTorch реализовано еще [множество других алгоритмов оптимизации](https://pytorch.org/docs/stable/optim.html#algorithms), таких как Adam и RMSProp, и они могут работать лучше или хуже для разных видов моделей и данных.\n",
        "\n",
        "Вся логика оптимизации заключена в объекте `optimizer`. Мы инициализируем оптимизатор, передавая ему параметры модели, которые требуется обучать (`model.parameters()`), а также гиперпараметр скорости обучения (`learning_rate`)."
      ]
    },
    {
      "cell_type": "code",
      "execution_count": 117,
      "id": "edaf2599",
      "metadata": {
        "id": "edaf2599"
      },
      "outputs": [],
      "source": [
        "optimizer = torch.optim.SGD(model.parameters(), lr=learning_rate)"
      ]
    },
    {
      "cell_type": "markdown",
      "id": "e863843a",
      "metadata": {
        "id": "e863843a"
      },
      "source": [
        "## Цикл обучения\n",
        "\n",
        "Внутри цикла обучения, оптимизация производится за три шага:\n",
        "1. Вызов `optimizer.zero_grad()`, чтобы сбросить градиенты параметров модели. По умолчанию градиенты суммируются, и во избежание повторного вычисления их необходимо явно обнулять на каждой итерации;\n",
        "2. Обратное распространение ошибки предсказания с помощью вызова `loss.backward()`. PyTorch вычислит градиенты функции потерь относительно каждого обучаемого параметра;\n",
        "3. Когда у нас есть градиенты, мы вызываем `optimizer.step()`, чтобы подстроить обучаемые параметры с учетом градиентов, посчитанных при обратном распространении, согласно алгоритму оптимизации.\n",
        "\n",
        "Итого, в цикле обучения в следующем порядке должны идти строчки:  <br>\n",
        "optimizer.zero_grad() <br>\n",
        "loss.backward()  <br>\n",
        "optimizer.step()  <br>"
      ]
    },
    {
      "cell_type": "markdown",
      "id": "1496ad93",
      "metadata": {
        "id": "1496ad93"
      },
      "source": [
        "Наиболее просто полный процесс обучения нейронной сети может быть представлен следующим кодом:"
      ]
    },
    {
      "cell_type": "code",
      "execution_count": 118,
      "id": "62544b17",
      "metadata": {
        "id": "62544b17",
        "outputId": "9b166f12-b3b3-449c-c5a1-8a210b5161d5"
      },
      "outputs": [
        {
          "name": "stdout",
          "output_type": "stream",
          "text": [
            "Training loss: 1.9189824459395175\n",
            "Training loss: 0.871666183444991\n",
            "Training loss: 0.5423966927855\n",
            "Training loss: 0.44197430830202633\n",
            "Training loss: 0.39191542711974714\n"
          ]
        }
      ],
      "source": [
        "from torch import optim\n",
        "\n",
        "model = nn.Sequential(nn.Linear(784, 128),\n",
        "                      nn.ReLU(),\n",
        "                      nn.Linear(128, 64),\n",
        "                      nn.ReLU(),\n",
        "                      nn.Linear(64, 10),\n",
        "                      nn.LogSoftmax(dim=1))\n",
        "\n",
        "\n",
        "num_epochs = 5\n",
        "learning_rate = 0.003\n",
        "\n",
        "criterion = nn.NLLLoss()\n",
        "\n",
        "optimizer = optim.SGD(model.parameters(), lr=learning_rate)\n",
        "\n",
        "for e in range(num_epochs):\n",
        "    running_loss = 0\n",
        "    for images, labels in trainloader:\n",
        "        # Flatten MNIST images into a 784 long vector\n",
        "        images = images.view(images.shape[0], -1)\n",
        "\n",
        "        # Training pass\n",
        "        output = model(images)\n",
        "        loss = criterion(output, labels)\n",
        "\n",
        "        optimizer.zero_grad()\n",
        "        loss.backward()\n",
        "        optimizer.step()\n",
        "\n",
        "        running_loss += loss.item()\n",
        "    else:\n",
        "        print(f\"Training loss: {running_loss/len(trainloader)}\")"
      ]
    },
    {
      "cell_type": "markdown",
      "id": "4cfd2ba2",
      "metadata": {
        "id": "4cfd2ba2"
      },
      "source": [
        "Посмотрим на вероятности предсказанных классов после обучения нейронной сети:"
      ]
    },
    {
      "cell_type": "code",
      "execution_count": 119,
      "id": "f2b0aca3",
      "metadata": {
        "id": "f2b0aca3",
        "outputId": "87d5266e-8827-424a-87ff-058de4d72bf8"
      },
      "outputs": [
        {
          "data": {
            "image/png": "[encoded data removed]",
            "text/plain": [
              "<Figure size 600x900 with 2 Axes>"
            ]
          },
          "metadata": {},
          "output_type": "display_data"
        }
      ],
      "source": [
        "%matplotlib inline\n",
        "\n",
        "images, labels = next(iter(trainloader))\n",
        "\n",
        "img = images[0].view(1, 784)\n",
        "# Turn off gradients to speed up this part\n",
        "with torch.no_grad():\n",
        "    logps = model(img)\n",
        "\n",
        "# Output of the network are log-probabilities, need to take exponential for probabilities\n",
        "ps = torch.exp(logps)\n",
        "view_classify(img.view(1, 28, 28), ps)"
      ]
    },
    {
      "cell_type": "markdown",
      "id": "357a91c1",
      "metadata": {
        "id": "357a91c1"
      },
      "source": [
        "Видим, что нейронная сеть уже научилась распознавать цифры с достаточно большой вероятностью."
      ]
    },
    {
      "cell_type": "markdown",
      "id": "779193bf",
      "metadata": {
        "id": "779193bf"
      },
      "source": [
        "# Пример нейронной сети для решения задачи классификации на наборе данных MNIST"
      ]
    },
    {
      "cell_type": "markdown",
      "id": "fd043c8c",
      "metadata": {
        "id": "fd043c8c"
      },
      "source": [
        "Шаг 1. Подгружаем необходимые библиотеки:"
      ]
    },
    {
      "cell_type": "code",
      "execution_count": 120,
      "id": "3cf340cd",
      "metadata": {
        "id": "3cf340cd"
      },
      "outputs": [],
      "source": [
        "import torch\n",
        "from torchvision import datasets, transforms\n",
        "from torchvision.transforms import ToTensor\n",
        "from IPython.display import clear_output\n",
        "from torch.utils.data import DataLoader"
      ]
    },
    {
      "cell_type": "markdown",
      "id": "131f23bc",
      "metadata": {
        "id": "131f23bc"
      },
      "source": [
        "Шаг 2. Выбираем гиперпараметры для нейронной сети:"
      ]
    },
    {
      "cell_type": "code",
      "execution_count": 121,
      "id": "dab9514d",
      "metadata": {
        "id": "dab9514d"
      },
      "outputs": [],
      "source": [
        "num_epochs = 10\n",
        "batch_size = 64\n",
        "learning_rate = 1e-3"
      ]
    },
    {
      "cell_type": "markdown",
      "id": "fd7bb6b5",
      "metadata": {
        "id": "fd7bb6b5"
      },
      "source": [
        "Шаг 3. Загружаем набор данных MNIST:"
      ]
    },
    {
      "cell_type": "code",
      "execution_count": 122,
      "id": "3ab3ea60",
      "metadata": {
        "id": "3ab3ea60"
      },
      "outputs": [],
      "source": [
        "trainset = datasets.MNIST('~/.pytorch/MNIST_data/', download=True, train=True)\n",
        "testset = datasets.MNIST('~/.pytorch/MNIST_data/', download=True, train=False)\n",
        "trainloader = torch.utils.data.DataLoader(trainset, batch_size=64, shuffle=True)\n",
        "testloader = torch.utils.data.DataLoader(testset, batch_size=64, shuffle=True)"
      ]
    },
    {
      "cell_type": "code",
      "execution_count": 123,
      "id": "c5c6991b",
      "metadata": {},
      "outputs": [],
      "source": [
        "example_data = torch.cat([transforms.functional.pil_to_tensor(trainset[i][0]) for i in range(60000)])"
      ]
    },
    {
      "cell_type": "markdown",
      "id": "e578567f",
      "metadata": {
        "id": "e578567f"
      },
      "source": [
        "Шаг 4. Посмотрим на основные параметры данных:"
      ]
    },
    {
      "cell_type": "code",
      "execution_count": 124,
      "id": "c1432389",
      "metadata": {
        "id": "c1432389",
        "outputId": "f444d39d-cdc6-4b31-e724-a50234302a5c"
      },
      "outputs": [
        {
          "name": "stdout",
          "output_type": "stream",
          "text": [
            "train_data.data:\n",
            "Type:  <class 'torch.Tensor'>\n",
            "Size:  torch.Size([60000, 28, 28])\n",
            "Dtype: torch.uint8\n",
            "Max:   tensor(255, dtype=torch.uint8)\n",
            "Min:   tensor(0, dtype=torch.uint8)\n"
          ]
        }
      ],
      "source": [
        "print(\"train_data.data:\")\n",
        "print(\"Type: \",  type(example_data))\n",
        "print(\"Size: \",  example_data.shape)\n",
        "print(\"Dtype:\",  example_data.dtype)\n",
        "print(\"Max:  \",  example_data.max())\n",
        "print(\"Min:  \", example_data.min())"
      ]
    },
    {
      "cell_type": "markdown",
      "id": "08bcf90d",
      "metadata": {
        "id": "08bcf90d"
      },
      "source": [
        "Шаг 5. Посмотрим на матожидание и дисперсию:"
      ]
    },
    {
      "cell_type": "code",
      "execution_count": 125,
      "id": "d027fe56",
      "metadata": {
        "id": "d027fe56",
        "outputId": "9195e525-4ff4-4ac2-d409-8d1a1acef626"
      },
      "outputs": [
        {
          "name": "stdout",
          "output_type": "stream",
          "text": [
            "mean = 33.32, std = 78.57\n"
          ]
        }
      ],
      "source": [
        "mean =  torch.mean(example_data.float())\n",
        "std =  torch.std(example_data.float())\n",
        "print(f\"mean = {mean:.2f}, std = {std:.2f}\")"
      ]
    },
    {
      "cell_type": "markdown",
      "id": "2630de30",
      "metadata": {
        "id": "2630de30"
      },
      "source": [
        "Шаг 6. Нормализуем значения, чтобы они попали в диапазон $[0;1]$:"
      ]
    },
    {
      "cell_type": "code",
      "execution_count": 126,
      "id": "ecc14a07",
      "metadata": {
        "id": "ecc14a07",
        "outputId": "930f5905-2316-4366-a40f-7269bf85258a"
      },
      "outputs": [
        {
          "name": "stdout",
          "output_type": "stream",
          "text": [
            "Scaled mean = 0.13, std = 0.31\n"
          ]
        }
      ],
      "source": [
        "mean /= example_data.max() ## вообще говоря, формула такая: x_new = (x_old - x_min)/(x_max - x_min)\n",
        "std /= example_data.max()\n",
        "print(f\"Scaled mean = {mean:.2f}, std = {std:.2f}\")"
      ]
    },
    {
      "cell_type": "markdown",
      "id": "a98b90c1",
      "metadata": {
        "id": "a98b90c1"
      },
      "source": [
        "Шаг 7. Мы вычислили среднее и стандартное отклонение по обучающей выборке MNIST для применения транcформации Normalize. Но мы также помним, что она должна применяться только после ToTensor:"
      ]
    },
    {
      "cell_type": "code",
      "execution_count": 127,
      "id": "8e28b4d4",
      "metadata": {
        "id": "8e28b4d4",
        "outputId": "8864ca6c-ae9f-48b5-95cc-3f8fccbf98d4"
      },
      "outputs": [
        {
          "name": "stdout",
          "output_type": "stream",
          "text": [
            "Compose(\n",
            "    ToTensor()\n",
            "    Normalize(mean=0.1306604762738429, std=0.3081078071231272)\n",
            ")\n"
          ]
        }
      ],
      "source": [
        "from torchvision import transforms\n",
        "\n",
        "transform_with_normalize = transforms.Compose([\n",
        "    transforms.ToTensor(),\n",
        "    transforms.Normalize(0.1306604762738429, 0.3081078071231272)\n",
        "])\n",
        "\n",
        "print(transform_with_normalize)"
      ]
    },
    {
      "cell_type": "markdown",
      "id": "20ce2bba",
      "metadata": {
        "id": "20ce2bba"
      },
      "source": [
        "Шаг 8. Заменим тренировочные и тестовые данные на новые с применённой трансфоормацией:"
      ]
    },
    {
      "cell_type": "code",
      "execution_count": 128,
      "id": "c6259934",
      "metadata": {},
      "outputs": [],
      "source": [
        "transform = transforms.ToTensor()"
      ]
    },
    {
      "cell_type": "code",
      "execution_count": 157,
      "id": "aa2152b7",
      "metadata": {
        "id": "aa2152b7",
        "outputId": "38ecb61d-459b-455d-b5dd-84c852da94a1"
      },
      "outputs": [
        {
          "name": "stdout",
          "output_type": "stream",
          "text": [
            "Old train transform: ToTensor()\n",
            "Old test transform: ToTensor()\n",
            "\n",
            "New train transform: Compose(\n",
            "    ToTensor()\n",
            "    Normalize(mean=0.1306604762738429, std=0.3081078071231272)\n",
            ")\n",
            "New test transform: Compose(\n",
            "    ToTensor()\n",
            "    Normalize(mean=0.1306604762738429, std=0.3081078071231272)\n",
            ")\n"
          ]
        }
      ],
      "source": [
        "train_data = datasets.MNIST('~/.pytorch/MNIST_data/', download=True, train=True, transform=transform)\n",
        "test_data = datasets.MNIST('~/.pytorch/MNIST_data/', download=True, train=False, transform=transform)\n",
        "\n",
        "print(\"Old train transform:\", train_data.transform)\n",
        "print(\"Old test transform:\", test_data.transform)\n",
        "\n",
        "train_data.transform = transform_with_normalize\n",
        "test_data.transform = transform_with_normalize\n",
        "\n",
        "print(\"\\nNew train transform:\", train_data.transform)\n",
        "print(\"New test transform:\", test_data.transform)\n",
        "\n",
        "trainloader = torch.utils.data.DataLoader(train_data, batch_size=64, shuffle=True)\n",
        "testloader = torch.utils.data.DataLoader(test_data, batch_size=64, shuffle=True)"
      ]
    },
    {
      "cell_type": "markdown",
      "id": "a06b1b3c",
      "metadata": {
        "id": "a06b1b3c"
      },
      "source": [
        "Шаг 9. Выбираем устройство для обучения:"
      ]
    },
    {
      "cell_type": "code",
      "execution_count": 163,
      "id": "2ca999ee",
      "metadata": {
        "id": "2ca999ee",
        "outputId": "3e10ab12-2882-48b6-907e-9a9b472ccc2a"
      },
      "outputs": [
        {
          "name": "stdout",
          "output_type": "stream",
          "text": [
            "Using cpu device\n"
          ]
        }
      ],
      "source": [
        "device = \"cuda\" if torch.cuda.is_available() else \"cpu\"\n",
        "print(f\"Using {device} device\")"
      ]
    },
    {
      "cell_type": "markdown",
      "id": "72b021dd",
      "metadata": {
        "id": "72b021dd"
      },
      "source": [
        "Шаг 10. Задаём архитектуру нейронной сети:"
      ]
    },
    {
      "cell_type": "code",
      "execution_count": 189,
      "id": "010c904c",
      "metadata": {
        "id": "010c904c"
      },
      "outputs": [],
      "source": [
        "from torch import nn\n",
        "\n",
        "class NeuralNetwork(nn.Module):\n",
        "    def __init__(self):\n",
        "        super().__init__()\n",
        "        self.flatten = nn.Flatten()\n",
        "        self.layers_stack = nn.Sequential(\n",
        "            nn.Linear(28 * 28, 512),\n",
        "            nn.ReLU(),\n",
        "            nn.Linear(512, 128),\n",
        "            nn.ReLU(),\n",
        "            nn.Linear(128, 10),\n",
        "        )\n",
        "\n",
        "    def forward(self, x):\n",
        "        x = self.flatten(x)\n",
        "        logits = self.layers_stack(x)\n",
        "        return logits"
      ]
    },
    {
      "cell_type": "markdown",
      "id": "94529a01",
      "metadata": {
        "id": "94529a01"
      },
      "source": [
        "Шаг 11. Создадим объект класса указанной нейронной сети и выведем его архитектуру:"
      ]
    },
    {
      "cell_type": "code",
      "execution_count": 190,
      "id": "f1d35c42",
      "metadata": {
        "id": "f1d35c42",
        "outputId": "2a32718c-aaf8-42cc-bce6-95ddec446c3e"
      },
      "outputs": [
        {
          "name": "stdout",
          "output_type": "stream",
          "text": [
            "NeuralNetwork(\n",
            "  (flatten): Flatten(start_dim=1, end_dim=-1)\n",
            "  (layers_stack): Sequential(\n",
            "    (0): Linear(in_features=784, out_features=512, bias=True)\n",
            "    (1): ReLU()\n",
            "    (2): Linear(in_features=512, out_features=128, bias=True)\n",
            "    (3): ReLU()\n",
            "    (4): Linear(in_features=128, out_features=10, bias=True)\n",
            "  )\n",
            ")\n"
          ]
        }
      ],
      "source": [
        "model = NeuralNetwork().to(device)\n",
        "print(model)"
      ]
    },
    {
      "cell_type": "markdown",
      "id": "c5ead366",
      "metadata": {
        "id": "c5ead366"
      },
      "source": [
        "Шаг 12. Выберем функцию потерь и оптимизатор:"
      ]
    },
    {
      "cell_type": "code",
      "execution_count": 191,
      "id": "19eb8165",
      "metadata": {
        "id": "19eb8165"
      },
      "outputs": [],
      "source": [
        "criterion = nn.CrossEntropyLoss()\n",
        "optimizer = torch.optim.SGD(model.parameters(), 0.01)"
      ]
    },
    {
      "cell_type": "markdown",
      "id": "9189e8ac",
      "metadata": {
        "id": "9189e8ac"
      },
      "source": [
        "Шаг 13. Зададим функции обучения на тренировочном и тестовом множествах:"
      ]
    },
    {
      "cell_type": "code",
      "execution_count": 192,
      "id": "1a545467",
      "metadata": {
        "id": "1a545467"
      },
      "outputs": [],
      "source": [
        "def train_loop(dataloader, model, criterion, optimizer):\n",
        "    num_batches = len(dataloader)\n",
        "\n",
        "    train_loss = 0\n",
        "\n",
        "    for imgs, labels in dataloader:\n",
        "        # Compute prediction and loss\n",
        "        optimizer.zero_grad()\n",
        "\n",
        "        pred = model(imgs.to(device))\n",
        "        loss = criterion(pred, labels.to(device))\n",
        "\n",
        "        # Optimization\n",
        "        loss.backward()\n",
        "        optimizer.step()\n",
        "\n",
        "        train_loss += loss.item()\n",
        "\n",
        "    train_loss /= num_batches\n",
        "    print(f\"Train loss: {train_loss:>8f}\")\n",
        "\n",
        "    return train_loss\n",
        "\n",
        "\n",
        "def test_loop(dataloader, model, criterion):\n",
        "    size = len(dataloader.dataset)\n",
        "    num_batches = len(dataloader)\n",
        "\n",
        "    test_loss, correct = 0, 0\n",
        "\n",
        "    with torch.no_grad():\n",
        "        for imgs, labels in dataloader:\n",
        "            # Compute prediction and loss\n",
        "            pred = model(imgs.to(device))\n",
        "            loss = criterion(pred, labels.to(device))\n",
        "\n",
        "            test_loss += loss.item()\n",
        "            correct += (\n",
        "                (pred.argmax(1) == labels.to(device)).type(torch.float).sum().item()\n",
        "            )\n",
        "\n",
        "    test_loss /= num_batches\n",
        "    correct /= size\n",
        "    print(f\"Test loss: {test_loss:>8f}, test accuracy: {(100*correct):>0.1f}% \\n\")\n",
        "\n",
        "    return test_loss"
      ]
    },
    {
      "cell_type": "markdown",
      "id": "38967d87",
      "metadata": {
        "id": "38967d87"
      },
      "source": [
        "Шаг 14. Запустим процесс обучения:"
      ]
    },
    {
      "cell_type": "code",
      "execution_count": 193,
      "id": "bef4fde9",
      "metadata": {
        "id": "bef4fde9",
        "outputId": "0aec6203-766a-4e05-fcad-48f56aa984c2"
      },
      "outputs": [
        {
          "name": "stdout",
          "output_type": "stream",
          "text": [
            "Epoch 1\n",
            "Train loss: 0.739564\n",
            "Test loss: 0.329846, test accuracy: 90.8% \n",
            "\n",
            "Epoch 2\n",
            "Train loss: 0.300190\n",
            "Test loss: 0.261132, test accuracy: 92.5% \n",
            "\n",
            "Epoch 3\n",
            "Train loss: 0.243363\n",
            "Test loss: 0.216986, test accuracy: 93.7% \n",
            "\n",
            "Epoch 4\n",
            "Train loss: 0.205103\n",
            "Test loss: 0.186092, test accuracy: 94.8% \n",
            "\n",
            "Epoch 5\n",
            "Train loss: 0.175517\n",
            "Test loss: 0.171070, test accuracy: 95.0% \n",
            "\n",
            "Epoch 6\n",
            "Train loss: 0.153378\n",
            "Test loss: 0.145369, test accuracy: 95.7% \n",
            "\n",
            "Epoch 7\n",
            "Train loss: 0.134998\n",
            "Test loss: 0.130560, test accuracy: 96.2% \n",
            "\n",
            "Epoch 8\n",
            "Train loss: 0.119989\n",
            "Test loss: 0.124409, test accuracy: 96.3% \n",
            "\n",
            "Epoch 9\n",
            "Train loss: 0.107326\n",
            "Test loss: 0.109814, test accuracy: 96.8% \n",
            "\n",
            "Epoch 10\n",
            "Train loss: 0.097275\n",
            "Test loss: 0.102647, test accuracy: 96.9% \n",
            "\n",
            "Done!\n"
          ]
        }
      ],
      "source": [
        "# for plotting\n",
        "loss_history = {\"train\": [], \"test\": []}\n",
        "\n",
        "for i in range(num_epochs):\n",
        "    print(f\"Epoch {i+1}\")\n",
        "    train_loss = train_loop(trainloader, model, criterion, optimizer)\n",
        "    test_loss = test_loop(testloader, model, criterion)\n",
        "\n",
        "    loss_history[\"train\"].append(train_loss)\n",
        "    loss_history[\"test\"].append(test_loss)\n",
        "print(\"Done!\")"
      ]
    },
    {
      "cell_type": "markdown",
      "id": "7aef120a",
      "metadata": {
        "id": "7aef120a"
      },
      "source": [
        "Шаг 15. Построим графики функции потерь на тренировочном и тестовом множествах:"
      ]
    },
    {
      "cell_type": "code",
      "execution_count": 194,
      "id": "d26b061e",
      "metadata": {
        "id": "d26b061e",
        "outputId": "9f9658c3-4ebb-4c84-957a-cfca695dcf40"
      },
      "outputs": [
        {
          "data": {
            "image/png": "[encoded data removed]",
            "text/plain": [
              "<Figure size 1000x500 with 1 Axes>"
            ]
          },
          "metadata": {},
          "output_type": "display_data"
        }
      ],
      "source": [
        "plt.figure(figsize=(10, 5))\n",
        "plt.plot(range(1, num_epochs + 1), loss_history[\"train\"], label=\"train\")\n",
        "plt.plot(range(1, num_epochs + 1), loss_history[\"test\"], label=\"test\")\n",
        "plt.xlabel(\"Epochs\", fontsize=15)\n",
        "plt.ylabel(\"Loss\", fontsize=15)\n",
        "plt.legend()\n",
        "plt.grid()\n",
        "plt.show()"
      ]
    },
    {
      "cell_type": "markdown",
      "id": "0c8b1e22",
      "metadata": {
        "id": "0c8b1e22"
      },
      "source": [
        "## Обработка результатов:"
      ]
    },
    {
      "cell_type": "markdown",
      "id": "c965d914",
      "metadata": {
        "id": "c965d914"
      },
      "source": [
        "Поэтапно пропустим тестовые изображения через модель и посмотрим на размерности:"
      ]
    },
    {
      "cell_type": "code",
      "execution_count": 196,
      "id": "b7312af1",
      "metadata": {
        "id": "b7312af1",
        "outputId": "58bf3070-1be6-4e9c-c848-f9db7f11dec6",
        "scrolled": true
      },
      "outputs": [
        {
          "name": "stdout",
          "output_type": "stream",
          "text": [
            "imgs shape:  torch.Size([64, 1, 28, 28])\n"
          ]
        }
      ],
      "source": [
        "# get batch\n",
        "imgs, labels = next(iter(testloader))\n",
        "print(\"imgs shape: \", imgs.shape)"
      ]
    },
    {
      "cell_type": "code",
      "execution_count": 197,
      "id": "818fcd33",
      "metadata": {
        "id": "818fcd33",
        "outputId": "71f3ecfa-001b-48f3-9a7a-d17bcdcd06ac"
      },
      "outputs": [
        {
          "name": "stdout",
          "output_type": "stream",
          "text": [
            "pred shape:  torch.Size([64, 10])\n"
          ]
        }
      ],
      "source": [
        "# get output\n",
        "pred = model(imgs.to(device))\n",
        "print(\"pred shape: \", pred.shape)"
      ]
    },
    {
      "cell_type": "markdown",
      "id": "ebe82db3",
      "metadata": {
        "id": "ebe82db3"
      },
      "source": [
        "Посмотрим на результаты обработки нейронной сети для выбранного батча:"
      ]
    },
    {
      "cell_type": "code",
      "execution_count": 198,
      "id": "cefd2d29",
      "metadata": {
        "id": "cefd2d29",
        "outputId": "891d95ce-97cb-489c-84f4-f9bff95f063f"
      },
      "outputs": [
        {
          "data": {
            "text/plain": [
              "tensor([ 0.1403, -0.5940,  1.3091,  5.4723, -7.6035, 11.0126, -2.1977, -6.7732,\n",
              "         2.9405, -3.2005], grad_fn=<SelectBackward0>)"
            ]
          },
          "execution_count": 198,
          "metadata": {},
          "output_type": "execute_result"
        }
      ],
      "source": [
        "# First sample in prediction batch\n",
        "pred[0]"
      ]
    },
    {
      "cell_type": "markdown",
      "id": "2e9fe30d",
      "metadata": {
        "id": "2e9fe30d"
      },
      "source": [
        "Чтобы посчитать вероятность, применим функццию softmax:"
      ]
    },
    {
      "cell_type": "code",
      "execution_count": 199,
      "id": "4858be52",
      "metadata": {
        "id": "4858be52",
        "outputId": "6f9f719c-1024-4ca2-8a72-af42d8f40e0e"
      },
      "outputs": [
        {
          "data": {
            "text/plain": [
              "tensor([1.8895e-05, 9.0664e-06, 6.0802e-05, 3.9083e-03, 8.1893e-09, 9.9569e-01,\n",
              "        1.8237e-06, 1.8787e-08, 3.1077e-04, 6.6905e-07])"
            ]
          },
          "execution_count": 199,
          "metadata": {},
          "output_type": "execute_result"
        }
      ],
      "source": [
        "# Calculate probabilities\n",
        "nn.Softmax(dim=0)(pred[0].detach())"
      ]
    },
    {
      "cell_type": "markdown",
      "id": "13f90cb8",
      "metadata": {
        "id": "13f90cb8"
      },
      "source": [
        "Изменим размерности данных для вывода картинок на экран:"
      ]
    },
    {
      "cell_type": "code",
      "execution_count": 200,
      "id": "cace1765",
      "metadata": {
        "id": "cace1765",
        "outputId": "56c4fa77-0be3-45ed-f8da-17a3c3d2f108"
      },
      "outputs": [
        {
          "name": "stdout",
          "output_type": "stream",
          "text": [
            "imgs shape(after reshape):  torch.Size([64, 28, 28])\n"
          ]
        }
      ],
      "source": [
        "# remove axis\n",
        "imgs = torch.reshape(imgs, (64, 28, 28))\n",
        "print(\"imgs shape(after reshape): \", imgs.shape)"
      ]
    },
    {
      "cell_type": "code",
      "execution_count": 201,
      "id": "2e176f7a",
      "metadata": {
        "id": "2e176f7a",
        "outputId": "a0d631af-9ed4-4bc7-9d58-2d01a112904f"
      },
      "outputs": [
        {
          "name": "stdout",
          "output_type": "stream",
          "text": [
            "imgs shape:  torch.Size([10, 28, 28])\n"
          ]
        }
      ],
      "source": [
        "# take 10 first images\n",
        "imgs = imgs[:10]\n",
        "print(\"imgs shape: \", imgs.shape)"
      ]
    },
    {
      "cell_type": "markdown",
      "id": "ed60c3e5",
      "metadata": {
        "id": "ed60c3e5"
      },
      "source": [
        "Посмотрим на предсказанные вероятности и выведем позицию максимального значения:"
      ]
    },
    {
      "cell_type": "code",
      "execution_count": 202,
      "id": "9d96b210",
      "metadata": {
        "id": "9d96b210",
        "outputId": "21942c42-bf67-48ed-87d3-e6dbcd0cc7e3"
      },
      "outputs": [
        {
          "name": "stdout",
          "output_type": "stream",
          "text": [
            "Prediction(1 sample):\n",
            " tensor([ 0.1403, -0.5940,  1.3091,  5.4723, -7.6035, 11.0126, -2.1977, -6.7732,\n",
            "         2.9405, -3.2005])\n",
            "Predicted class:  5\n"
          ]
        }
      ],
      "source": [
        "import numpy as np\n",
        "\n",
        "pred = pred[:10].detach()\n",
        "print(\"Prediction(1 sample):\\n\", pred[0])\n",
        "digits = np.argmax(pred.cpu().numpy(), axis=1)\n",
        "print(\"Predicted class: \", digits[0])"
      ]
    },
    {
      "cell_type": "markdown",
      "id": "657336bb",
      "metadata": {
        "id": "657336bb"
      },
      "source": [
        "Визуализируем изображения, подпишем предсказанное и истинное значение:"
      ]
    },
    {
      "cell_type": "code",
      "execution_count": 203,
      "id": "8544161e",
      "metadata": {
        "id": "8544161e",
        "outputId": "4f3df193-9d76-4606-cce1-dd3582034982"
      },
      "outputs": [
        {
          "data": {
            "image/png": "[encoded data removed]",
            "text/plain": [
              "<Figure size 2500x2500 with 10 Axes>"
            ]
          },
          "metadata": {},
          "output_type": "display_data"
        }
      ],
      "source": [
        "plt.figure(figsize=(25.0, 25.0))\n",
        "for i in range(10):\n",
        "    img = imgs[i]\n",
        "\n",
        "    plt.subplot(1, 10, i + 1)\n",
        "    plt.title(\n",
        "        \"pred: \" + str(digits[i]) + \" real: \" + str(labels[i].numpy())\n",
        "    )  # predicted and real values\n",
        "    plt.axis(\"off\")\n",
        "    plt.imshow(img.numpy(), cmap=\"gray\")"
      ]
    },
    {
      "cell_type": "markdown",
      "id": "c441fe9a",
      "metadata": {
        "id": "c441fe9a"
      },
      "source": [
        "## Сохранение и загрузка весов модели\n",
        "\n",
        "Обычно обучение модели является достаточно затратным процессом с точки зрения вычислительных ресурсов. Поэтому, однажды обучив сеть, разумно будет сохранить ее для последующего использования. Рассмотрим варианты, как это можно сделать в PyTorch.\n",
        "\n",
        "Модели PyTorch хранят обучаемые параметры во внутреннем словаре состояния, который называется `state_dict`. Их можно сохранить с помощью метода `torch.save`.\n"
      ]
    },
    {
      "cell_type": "code",
      "execution_count": 204,
      "id": "ed416697",
      "metadata": {
        "id": "ed416697"
      },
      "outputs": [],
      "source": [
        "torch.save(model.state_dict(), \"model_weights.pth\")"
      ]
    },
    {
      "cell_type": "markdown",
      "id": "0f3048e7",
      "metadata": {
        "id": "0f3048e7"
      },
      "source": [
        "Для того, чтобы загрузить веса модели, сперва необходимо создать экземпляр такой модели, а затем загрузить параметры с помощью метода `load_state_dict()`."
      ]
    },
    {
      "cell_type": "code",
      "execution_count": 205,
      "id": "87c7b4c0",
      "metadata": {
        "id": "87c7b4c0",
        "outputId": "64fc892c-63db-4786-e28f-196b1ca61580"
      },
      "outputs": [
        {
          "name": "stdout",
          "output_type": "stream",
          "text": [
            "NeuralNetwork(\n",
            "  (flatten): Flatten(start_dim=1, end_dim=-1)\n",
            "  (layers_stack): Sequential(\n",
            "    (0): Linear(in_features=784, out_features=512, bias=True)\n",
            "    (1): ReLU()\n",
            "    (2): Linear(in_features=512, out_features=128, bias=True)\n",
            "    (3): ReLU()\n",
            "    (4): Linear(in_features=128, out_features=10, bias=True)\n",
            "  )\n",
            ")\n"
          ]
        },
        {
          "name": "stderr",
          "output_type": "stream",
          "text": [
            "C:\\Users\\bleep\\AppData\\Local\\Temp\\ipykernel_14248\\4229997318.py:2: FutureWarning: You are using `torch.load` with `weights_only=False` (the current default value), which uses the default pickle module implicitly. It is possible to construct malicious pickle data which will execute arbitrary code during unpickling (See https://github.com/pytorch/pytorch/blob/main/SECURITY.md#untrusted-models for more details). In a future release, the default value for `weights_only` will be flipped to `True`. This limits the functions that could be executed during unpickling. Arbitrary objects will no longer be allowed to be loaded via this mode unless they are explicitly allowlisted by the user via `torch.serialization.add_safe_globals`. We recommend you start setting `weights_only=True` for any use case where you don't have full control of the loaded file. Please open an issue on GitHub for any issues related to this experimental feature.\n",
            "  model.load_state_dict(torch.load(\"model_weights.pth\"))\n"
          ]
        }
      ],
      "source": [
        "model = NeuralNetwork()\n",
        "model.load_state_dict(torch.load(\"model_weights.pth\"))\n",
        "print(model)"
      ]
    },
    {
      "cell_type": "code",
      "execution_count": 206,
      "id": "dacb93e6",
      "metadata": {
        "id": "dacb93e6"
      },
      "outputs": [],
      "source": [
        "imgs, labels = next(iter(testloader))\n",
        "pred = model(torch.reshape(imgs, (64, 28, 28)).to(device))"
      ]
    },
    {
      "cell_type": "code",
      "execution_count": 207,
      "id": "6577fd8d",
      "metadata": {
        "id": "6577fd8d",
        "outputId": "28207569-000d-4be1-d604-f9a31bb7ff65"
      },
      "outputs": [
        {
          "name": "stdout",
          "output_type": "stream",
          "text": [
            "Prediction(1 sample):\n",
            " tensor([[-4.0386e+00,  7.3574e+00, -4.9016e-01,  6.2133e-01, -2.3889e+00,\n",
            "         -7.9230e-01, -2.2755e+00,  8.0882e-01,  1.5652e+00, -7.6335e-01],\n",
            "        [ 1.7595e+00, -1.4622e+00,  3.7205e+00, -1.8587e+00,  2.0522e-02,\n",
            "          7.2852e-01,  1.0711e+01, -8.6345e+00,  6.0726e-01, -4.4093e+00],\n",
            "        [-1.5348e+00, -1.1948e+00, -2.5710e+00,  3.1388e+00, -9.2531e-01,\n",
            "          5.0312e+00, -5.5775e-01, -2.5114e+00,  1.7582e+00, -1.3515e+00],\n",
            "        [-3.7357e+00, -8.8949e-01, -4.3117e+00,  7.5165e+00, -5.5844e-01,\n",
            "          3.7475e+00, -6.3318e+00,  9.6927e-02,  8.9101e-02,  3.6075e+00],\n",
            "        [-4.8080e+00,  1.1530e+00,  6.7336e-01,  6.8110e+00, -5.6631e+00,\n",
            "          1.2355e+00, -6.2321e+00,  5.2874e-01,  3.5164e+00,  1.8443e+00],\n",
            "        [-1.3793e+00, -8.0639e-01,  1.0258e+01,  4.4141e+00, -3.4619e+00,\n",
            "         -5.7898e+00, -3.4082e+00, -6.5126e-01,  4.8132e+00, -3.4538e+00],\n",
            "        [ 2.2175e+00, -4.4422e+00,  7.7841e-01,  4.1183e+00, -5.3735e+00,\n",
            "          2.5474e+00, -2.0737e+00, -8.0419e+00,  8.2285e+00,  1.8981e-01],\n",
            "        [-5.0700e+00,  3.5274e+00, -2.5142e+00, -7.2493e-01,  1.2312e+00,\n",
            "          2.6956e-01, -4.0451e+00,  4.7639e+00, -8.5981e-01,  2.0547e+00],\n",
            "        [-1.0760e+00,  1.7797e-01,  8.9033e-01, -5.2143e-01, -2.1696e-01,\n",
            "          2.3995e+00,  7.2398e+00, -6.4209e+00,  1.9446e+00, -3.6623e+00],\n",
            "        [ 5.2580e-01, -2.8298e+00, -2.9607e+00,  1.5364e+00, -1.9901e+00,\n",
            "          7.6578e+00,  5.8379e-02, -4.9673e+00,  1.4166e+00,  1.2146e+00],\n",
            "        [-7.8714e+00,  9.2982e+00, -1.6076e+00,  1.8910e+00, -6.8454e-01,\n",
            "         -2.9063e+00, -3.0405e+00,  1.2275e+00,  9.2578e-01,  1.4613e+00],\n",
            "        [ 7.5571e+00, -5.2841e+00,  2.8233e+00, -5.0965e-01, -3.8262e+00,\n",
            "         -1.1294e+00, -5.3372e+00,  1.9642e+00, -3.1627e-01,  2.2228e+00],\n",
            "        [-3.5971e+00, -8.2736e+00, -3.7795e+00,  5.8586e+00,  4.1535e-01,\n",
            "         -1.7529e+00, -1.2862e+01,  6.0787e+00,  3.2724e+00,  1.1159e+01],\n",
            "        [-1.5261e+00, -6.4836e+00, -2.0260e+00, -2.2314e+00,  5.3745e+00,\n",
            "         -1.3468e+00, -5.4288e+00,  4.0062e+00, -4.4221e-01,  8.8317e+00],\n",
            "        [-1.4946e+00, -2.1759e+00, -3.0703e+00,  2.9879e+00, -2.8506e+00,\n",
            "          8.4404e+00, -2.4814e+00, -4.6841e+00,  2.4972e+00,  2.7035e+00],\n",
            "        [-2.4986e+00, -4.3587e-01,  1.8238e+00,  3.3149e+00, -4.0372e+00,\n",
            "         -7.4736e-01, -8.5676e+00,  8.1996e+00, -1.5040e+00,  2.9847e+00],\n",
            "        [-1.4943e+00, -6.2170e+00, -1.8308e+00, -1.7753e+00,  4.5657e+00,\n",
            "         -2.2713e+00, -5.7285e+00,  3.3960e+00,  1.5263e-01,  9.9097e+00],\n",
            "        [ 5.3532e-01, -4.3847e+00, -7.0455e+00, -3.3834e+00,  3.2078e+00,\n",
            "          6.4958e+00,  1.9978e+00, -2.0362e+00,  7.7167e-01,  2.1195e+00],\n",
            "        [-5.4097e+00,  8.1900e+00,  1.4763e+00,  8.3793e-01, -7.6070e-01,\n",
            "         -3.4312e+00, -3.3365e+00,  2.4335e+00,  2.8160e-01, -1.0094e+00],\n",
            "        [-4.5206e+00,  1.1171e+00, -7.8168e-01,  1.0439e+01, -1.9901e+00,\n",
            "          1.3254e+00, -8.2698e+00, -1.2639e+00,  1.6750e+00,  1.7066e+00],\n",
            "        [-7.0139e+00,  7.9712e+00, -1.7698e+00,  2.1029e+00, -1.3054e+00,\n",
            "         -2.1059e+00, -3.8547e+00,  1.8190e+00,  1.0109e+00,  1.7790e+00],\n",
            "        [-4.6999e+00, -1.7557e+00,  1.4647e+00,  2.3295e+00, -5.0656e-01,\n",
            "         -1.3576e+00, -4.0839e+00, -1.2194e+00,  8.1013e+00,  2.3239e-01],\n",
            "        [-5.9632e+00,  8.2758e+00,  2.7165e-01,  4.6334e-01,  2.1023e-01,\n",
            "         -1.7254e+00, -1.5434e-01, -5.1846e-02,  1.7028e+00, -3.2308e+00],\n",
            "        [-4.9705e+00, -4.9649e+00, -1.4871e-01, -1.6515e+00,  1.0339e+01,\n",
            "         -2.0095e+00, -2.0294e-01,  3.4736e+00, -1.9214e+00,  1.4437e+00],\n",
            "        [ 9.3157e+00, -5.4115e+00,  5.9388e-01, -4.1629e+00, -3.6972e+00,\n",
            "         -6.9196e-01,  1.5489e+00,  7.8425e-01, -1.1214e+00,  2.0562e+00],\n",
            "        [-3.0380e+00, -4.0064e+00, -2.1589e+00,  6.4249e+00, -2.9064e+00,\n",
            "          9.5637e+00, -6.3062e+00, -5.4057e+00,  4.4960e+00,  2.5803e+00],\n",
            "        [ 1.4651e+00, -1.8615e+00,  1.6438e+01,  4.9649e+00, -1.7738e+00,\n",
            "         -4.2114e+00,  1.0414e+00, -7.7027e+00,  1.1455e+00, -7.1742e+00],\n",
            "        [-8.8035e+00,  8.9041e+00, -8.0490e-01,  3.5959e+00, -8.7345e-01,\n",
            "         -3.2519e+00, -2.9445e+00, -4.5580e-01,  2.8563e+00,  7.0484e-01],\n",
            "        [-4.7375e+00, -2.5377e+00, -1.8975e+00, -1.9498e+00,  9.5916e+00,\n",
            "         -3.2667e+00, -1.2553e+00,  2.9965e+00, -9.3800e-01,  2.9618e+00],\n",
            "        [-3.1597e+00, -1.4199e+00, -5.4750e+00,  4.1970e-01,  3.3222e+00,\n",
            "          3.8089e+00, -4.5565e+00,  2.0579e+00, -8.3857e-01,  4.9087e+00],\n",
            "        [-2.1930e+00, -1.0707e-01, -1.4620e+00,  1.2886e+01, -9.1939e+00,\n",
            "          3.5615e+00, -1.1174e+01,  1.4856e+00,  1.7190e+00,  2.9920e+00],\n",
            "        [-1.3767e+00, -2.0836e+00, -1.7521e+00,  1.1139e+01, -3.0675e+00,\n",
            "          3.1414e+00, -8.1845e+00, -7.7967e+00,  6.5646e+00,  1.5548e+00],\n",
            "        [-4.0092e+00, -9.5137e-01,  2.1841e+00,  4.6874e+00, -4.0308e+00,\n",
            "         -2.0122e+00, -6.4889e+00, -4.3761e-01,  7.4125e+00,  2.5267e+00],\n",
            "        [-2.8135e+00, -1.0409e+00,  1.1860e+00,  2.6712e+00, -3.8700e+00,\n",
            "         -6.0231e-01, -1.0132e+01,  9.4765e+00,  4.2070e-02,  3.3887e+00],\n",
            "        [ 2.2567e+00, -1.4834e+00,  8.9518e-01, -1.2717e+00, -6.6436e-01,\n",
            "          2.6604e+00,  6.6347e+00, -6.5076e+00,  2.5946e+00, -4.0970e+00],\n",
            "        [ 6.2638e-01, -4.1635e+00,  4.3669e+00, -6.0198e-01,  4.0795e+00,\n",
            "         -3.8823e+00,  3.4053e+00, -3.9355e+00,  7.5822e-01,  2.4217e-02],\n",
            "        [-1.7390e+00,  2.4655e+00, -3.9743e-01,  7.7603e+00, -3.7087e+00,\n",
            "          2.4568e+00, -4.7401e+00, -6.0842e+00,  5.5360e+00, -2.0006e+00],\n",
            "        [ 9.8097e+00, -5.8414e+00,  1.5849e+00, -6.7806e+00, -4.7367e+00,\n",
            "          3.2614e+00,  5.6328e+00, -4.6609e+00,  2.1702e+00, -1.3856e+00],\n",
            "        [ 1.4864e+01, -7.1031e+00,  3.0375e+00, -3.9794e+00, -9.3875e+00,\n",
            "          1.9519e+00, -1.2571e+00, -3.6745e-01,  3.9196e-01, -2.1313e-01],\n",
            "        [-6.3670e+00, -2.8091e+00,  4.2568e-01,  4.2953e+00,  4.9751e-01,\n",
            "         -2.2069e+00, -6.7478e+00,  6.5496e+00, -1.3961e+00,  6.5446e+00],\n",
            "        [-4.1187e+00, -3.4368e+00, -3.3650e+00,  3.3779e+00,  3.6053e-01,\n",
            "         -3.5253e-01, -9.7000e+00,  3.4403e+00,  3.0090e+00,  9.0916e+00],\n",
            "        [-4.3918e-01, -8.7183e-01, -9.4928e-01,  2.8602e+00, -1.4155e+00,\n",
            "         -9.2828e-01, -6.1088e-01, -5.2677e+00,  7.2205e+00, -2.9946e-01],\n",
            "        [ 6.5036e+00, -5.1602e+00,  1.5005e+00, -8.3130e-01, -3.4293e+00,\n",
            "          2.0225e+00, -1.4188e+00,  5.8185e-03, -1.0574e+00,  1.0474e+00],\n",
            "        [-3.2460e+00,  2.8171e-01,  3.1635e+00,  1.1542e+01, -3.9820e+00,\n",
            "          2.4111e+00, -6.6474e+00, -8.5015e+00,  5.7421e+00, -3.2858e-01],\n",
            "        [-2.0894e+00, -3.9056e+00,  6.3961e-01, -1.5982e+00,  8.0806e+00,\n",
            "         -2.7080e+00, -1.2130e+00,  6.3252e-01, -7.9390e-01,  2.6678e+00],\n",
            "        [-2.1395e+00, -5.4177e-01, -3.2067e-01,  9.9970e-01, -2.3372e-01,\n",
            "          1.0464e+01,  3.1892e+00, -1.2046e+01,  5.3288e+00, -3.3892e+00],\n",
            "        [ 3.5546e-01, -3.1982e+00,  1.9440e+00, -4.6649e+00,  3.4603e+00,\n",
            "         -1.9047e+00,  1.0789e+01, -2.9155e+00, -1.6867e+00, -2.1185e+00],\n",
            "        [-6.2424e+00,  8.0873e+00,  1.5821e-01,  3.9938e-01, -1.6749e+00,\n",
            "         -1.7336e+00, -1.2706e+00,  7.6048e-01,  1.9793e+00, -1.2309e+00],\n",
            "        [-1.4117e+00, -1.0967e+00, -1.7244e-02, -3.4438e+00,  2.6993e+00,\n",
            "         -1.2150e-01,  1.0284e+01, -5.0843e+00, -1.6280e+00, -2.8674e-01],\n",
            "        [ 2.1097e+00, -4.7649e+00,  5.9122e-01, -6.5716e+00,  4.9860e+00,\n",
            "         -1.0276e-01,  6.8983e+00, -7.6682e-01, -2.5111e+00, -1.3880e-01],\n",
            "        [-1.0900e-01, -4.1702e-01,  3.5585e+00, -2.1973e+00,  3.3720e-01,\n",
            "          7.8849e-01,  1.0625e+01, -6.2577e+00,  5.6810e-01, -5.8391e+00],\n",
            "        [-9.9673e+00,  7.9232e+00, -5.7371e-01,  1.9645e+00,  4.0778e-01,\n",
            "         -7.6606e-01, -2.7981e+00, -8.0744e-01,  3.5032e+00,  5.9269e-01],\n",
            "        [ 7.6554e-01, -6.3222e-01, -2.6651e+00,  1.7010e+00, -5.3428e+00,\n",
            "          1.3691e+01, -1.2273e-01, -7.4806e+00,  3.7840e+00, -2.9063e+00],\n",
            "        [ 2.8201e+00, -6.6586e+00, -2.7145e+00,  2.9878e+00, -3.5640e+00,\n",
            "          4.1216e+00, -7.0538e+00, -5.2435e-01,  3.4694e+00,  5.3525e+00],\n",
            "        [ 4.7403e-01, -1.1450e+00,  9.0811e+00,  1.9150e+00,  2.5725e+00,\n",
            "         -2.8345e+00,  2.2489e+00, -2.9822e+00, -1.4807e+00, -5.8181e+00],\n",
            "        [ 1.9270e+00, -1.7634e+00, -8.9505e-01, -9.2331e-01, -1.2485e+00,\n",
            "          7.7692e+00,  4.9861e-01, -1.6366e+00,  1.6623e+00, -4.4103e+00],\n",
            "        [-6.0904e+00, -1.9936e+00, -4.2060e+00,  1.3709e+00,  3.1018e+00,\n",
            "          1.8987e+00, -6.7454e+00,  6.5476e-01,  3.0879e+00,  7.3433e+00],\n",
            "        [-7.3465e+00,  8.7350e+00, -1.8394e+00,  1.9543e+00, -8.9051e-01,\n",
            "         -2.0812e+00, -3.2421e+00,  1.6474e+00,  7.1510e-01,  1.1292e+00],\n",
            "        [-1.1125e+00, -8.4676e+00, -3.2452e+00,  1.8401e+00,  1.8423e+00,\n",
            "         -2.8957e+00, -8.5647e+00,  5.5043e+00,  1.2402e+00,  1.0734e+01],\n",
            "        [-2.3993e+00,  5.3147e+00,  1.3759e+01,  8.0715e+00, -1.0379e+01,\n",
            "         -2.3454e+00, -4.1287e+00, -2.6055e+00,  3.1237e+00, -8.2645e+00],\n",
            "        [-3.8102e+00,  3.0509e+00,  1.2954e+01,  5.5426e+00, -7.5017e+00,\n",
            "         -2.6158e+00, -4.9781e+00,  9.7126e-01,  2.2752e+00, -4.9307e+00],\n",
            "        [-2.1101e+00, -1.3296e-01,  1.2472e+00,  1.3743e+01, -9.1027e+00,\n",
            "          4.2601e+00, -1.1004e+01, -2.0589e+00,  1.9158e+00,  2.6013e+00],\n",
            "        [ 1.4172e+01, -1.2149e+01,  3.1023e+00, -7.2917e+00,  1.2563e-01,\n",
            "         -4.0517e+00,  8.8572e-01, -4.7863e+00,  4.4165e+00,  2.6430e+00],\n",
            "        [-7.0256e+00,  8.4738e+00,  7.9732e-03,  1.1924e+00, -8.8411e-01,\n",
            "         -2.4694e+00, -1.8973e+00,  1.0749e+00,  1.0251e+00, -5.2215e-01]])\n",
            "[1 6 5 3 3 2 8 7 6 5 1 0 9 9 5 7 9 5 1 3 1 8 1 4 0 5 2 1 4 9 3 3 8 7 6 2 3\n",
            " 0 0 7 9 8 0 3 4 5 6 1 6 6 6 1 5 9 2 5 9 1 9 2 2 3 0 1]\n"
          ]
        }
      ],
      "source": [
        "pred = pred.detach()\n",
        "print(\"Prediction(1 sample):\\n\", pred)\n",
        "digits = np.argmax(pred.cpu().numpy(), axis=1)\n",
        "print(digits)"
      ]
    }
  ],
  "metadata": {
    "colab": {
      "provenance": []
    },
    "kernelspec": {
      "display_name": "Python 3",
      "language": "python",
      "name": "python3"
    },
    "language_info": {
      "codemirror_mode": {
        "name": "ipython",
        "version": 3
      },
      "file_extension": ".py",
      "mimetype": "text/x-python",
      "name": "python",
      "nbconvert_exporter": "python",
      "pygments_lexer": "ipython3",
      "version": "3.11.4"
    }
  },
  "nbformat": 4,
  "nbformat_minor": 5
}
